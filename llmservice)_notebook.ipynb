{
 "cells": [
  {
   "cell_type": "code",
   "execution_count": 1,
   "metadata": {},
   "outputs": [],
   "source": [
    "import os \n",
    "import requests\n"
   ]
  },
  {
   "cell_type": "code",
   "execution_count": 2,
   "metadata": {},
   "outputs": [],
   "source": [
    "\n",
    "# BAM Credentials\n",
    "BAM_KEY = os.getenv(\"BAM_KEY\", None)\n",
    "BAM_API_ENDPOINT = os.getenv(\"BAM_API\", None)\n",
    "#Endpoint Url\n",
    "ENDPOINT_URL = BAM_API_ENDPOINT + \"generate\""
   ]
  },
  {
   "cell_type": "code",
   "execution_count": 5,
   "metadata": {},
   "outputs": [
    {
     "name": "stdout",
     "output_type": "stream",
     "text": [
      "{'model_id': 'google/flan-ul2', 'inputs': [\"00:00   [ali]   The goal today is to agree on a design solution.\\\\\\\\n00:12   [alex]  I think we should consider choice 1.\\\\\\\\n00:25   [ali]   I agree\\\\\\\\n00:40   [erin]  Choice 2 has the advantage that it will take less time.\\\\\\\\n01:03   [alex]  Actually, that\\\\'s a good point.\\\\\\\\n01:30   [ali]   So, what should we do?\\\\\\\\n01:55   [alex]  I\\\\'m good with choice 2.\\\\\\\\n02:20   [erin]  Me too.\\\\\\\\n02:45   [ali]   Done!\"], 'template': {'id': 'prompt_builder', 'data': {'instruction': 'Write a short summary for the meeting transcripts.', 'input_prefix': 'Input:', 'output_prefix': 'Output:', 'examples': [{'input': \"00:00   [sam]   I wanted to share an update on project X today.\\n00:15   [sam]   Project X will be completed at the end of the week.\\n00:30   [erin]  That's great!\\n00:35   [erin]  I heard from customer Y today, and they agreed to buy our product.\\n00:45   [alex]  Customer Z said they will too.\\n01:05   [sam]   Great news, all around.\", 'output': 'Sam shared an update that project X will be completed end of the week and will be purchased by customers Y and Z.'}, {'input': \"00:00   [ali]   The goal today is to agree on a design solution.\\n00:12   [alex]  I think we should consider choice 1.\\n00:25   [ali]   I agree\\n00:40   [erin]  Choice 2 has the advantage that it will take less time.\\n01:03   [alex]  Actually, that's a good point.\\n01:30   [ali]   So, what should we do?\\n01:55   [alex]  I'm good with choice 2.\\n02:20   [erin]  Me too.\\n02:45   [ali]   Done!\", 'output': 'Ali, Alex, and Erin decided to go with choice 2 for the design solution because it will take less time.'}]}}, 'parameters': {'decoding_method': 'greedy', 'temperature': 0.7, 'top_p': 1, 'top_k': 50, 'min_new_tokens': 50, 'max_new_tokens': 200}}\n"
     ]
    }
   ],
   "source": [
    "\n",
    "# Authentication header\n",
    "headers = {\n",
    "    'Content-Type': 'application/json',\n",
    "    'Authorization': 'Bearer '+BAM_KEY\n",
    "}\n",
    "#Input text\n",
    "llmInput=\"00:00   [ali]   The goal today is to agree on a design solution.\\\\\\\\n00:12   [alex]  I think we should consider choice 1.\\\\\\\\n00:25   [ali]   I agree\\\\\\\\n00:40   [erin]  Choice 2 has the advantage that it will take less time.\\\\\\\\n01:03   [alex]  Actually, that\\\\'s a good point.\\\\\\\\n01:30   [ali]   So, what should we do?\\\\\\\\n01:55   [alex]  I\\\\'m good with choice 2.\\\\\\\\n02:20   [erin]  Me too.\\\\\\\\n02:45   [ali]   Done!\"\n",
    "#Parameters\n",
    "parameters = {\n",
    "            \"decoding_method\": \"greedy\",\n",
    "            \"temperature\": 0.7,\n",
    "            \"top_p\": 1,\n",
    "            \"top_k\": 50,\n",
    "            \"min_new_tokens\": 50,\n",
    "            \"max_new_tokens\": 200\n",
    "            }\n",
    "#Template for Summarization\n",
    "template={\n",
    "      \"id\": \"prompt_builder\",\n",
    "      \"data\": {\n",
    "        \"instruction\": \"Write a short summary for the meeting transcripts.\",\n",
    "        \"input_prefix\": \"Input:\",\n",
    "        \"output_prefix\": \"Output:\",\n",
    "        \"examples\": [\n",
    "          {\n",
    "            \"input\": \"00:00   [sam]   I wanted to share an update on project X today.\\n00:15   [sam]   Project X will be completed at the end of the week.\\n00:30   [erin]  That's great!\\n00:35   [erin]  I heard from customer Y today, and they agreed to buy our product.\\n00:45   [alex]  Customer Z said they will too.\\n01:05   [sam]   Great news, all around.\",\n",
    "            \"output\": \"Sam shared an update that project X will be completed end of the week and will be purchased by customers Y and Z.\"\n",
    "          },\n",
    "          {\n",
    "            \"input\": \"00:00   [ali]   The goal today is to agree on a design solution.\\n00:12   [alex]  I think we should consider choice 1.\\n00:25   [ali]   I agree\\n00:40   [erin]  Choice 2 has the advantage that it will take less time.\\n01:03   [alex]  Actually, that's a good point.\\n01:30   [ali]   So, what should we do?\\n01:55   [alex]  I'm good with choice 2.\\n02:20   [erin]  Me too.\\n02:45   [ali]   Done!\",\n",
    "            \"output\": \"Ali, Alex, and Erin decided to go with choice 2 for the design solution because it will take less time.\"\n",
    "          }\n",
    "        ]\n",
    "      }\n",
    "    }\n",
    "llmPayload = {\n",
    "                \"model_id\": \"google/flan-ul2\", \n",
    "                \"inputs\":[llmInput], \n",
    "                \"template\":template,\n",
    "                \"parameters\": parameters\n",
    "               }\n",
    "print(llmPayload)\n",
    "\n",
    "response = requests.post(ENDPOINT_URL, json=llmPayload, headers=headers)\n",
    "\n"
   ]
  },
  {
   "cell_type": "code",
   "execution_count": 4,
   "metadata": {},
   "outputs": [
    {
     "name": "stdout",
     "output_type": "stream",
     "text": [
      "<Response [503]>\n",
      "{\"status_code\":503,\"error\":\"Service Unavailable\",\"message\":\"The model is temporarily unavailable. This is most likely a temporary condition.\",\"extensions\":{\"code\":\"SERVICE_UNAVAILABLE\",\"reason\":\"NO_CONNECTION\"}}\n",
      "{'status_code': 503, 'error': 'Service Unavailable', 'message': 'The model is temporarily unavailable. This is most likely a temporary condition.', 'extensions': {'code': 'SERVICE_UNAVAILABLE', 'reason': 'NO_CONNECTION'}}\n"
     ]
    }
   ],
   "source": [
    "print(response)\n",
    "print(response.text)\n",
    "print(response.json())"
   ]
  },
  {
   "cell_type": "code",
   "execution_count": 4,
   "metadata": {},
   "outputs": [
    {
     "name": "stdout",
     "output_type": "stream",
     "text": [
      "<class 'dict'>\n"
     ]
    }
   ],
   "source": [
    "# json_str=response.json()\n",
    "import json\n",
    "\n",
    "json_str={'model_id': 'google/flan-ul2', 'created_at': '2023-06-20T18:11:32.920Z', 'results': [{'generated_text': 'Ali, Alex, and Erin decided to go with choice 2 for the design solution because it will take less time...................................................................................................................................................................................................................................................................................................................................................................................................................................................................................................................................................................................................................................................................................................................................................................................................................................................................................................................................................................................................................................................................................................................................................................................................................................................................................................................................................................................................................................................................................................................................................................................................................................................................................................................................................................................................................................................................................................................................................................................................................................................................................................................................................................................................................................................................................................................................................................................................................................................................................................................................................................................................................................................................................................................................................................................................................................................................................................', 'generated_token_count': 200, 'input_token_count': 443, 'stop_reason': 'MAX_TOKENS'}]}\n",
    "print(type(json_str))\n",
    "# json_str=json.loads(json_str)\n",
    "# print(type(json_str))"
   ]
  },
  {
   "cell_type": "code",
   "execution_count": 9,
   "metadata": {},
   "outputs": [
    {
     "name": "stdout",
     "output_type": "stream",
     "text": [
      "Ali, Alex, and Erin decided to go with choice 2 for the design solution because it will take less time\n"
     ]
    }
   ],
   "source": [
    "# print(json_str['results'][0]['generated_text'])\n",
    "generated_text=json_str['results'][0]['generated_text']\n",
    "generated_text=generated_text.replace('.','')\n",
    "print(generated_text)"
   ]
  },
  {
   "cell_type": "code",
   "execution_count": null,
   "metadata": {},
   "outputs": [],
   "source": []
  }
 ],
 "metadata": {
  "kernelspec": {
   "display_name": "Python 3",
   "language": "python",
   "name": "python3"
  },
  "language_info": {
   "codemirror_mode": {
    "name": "ipython",
    "version": 3
   },
   "file_extension": ".py",
   "mimetype": "text/x-python",
   "name": "python",
   "nbconvert_exporter": "python",
   "pygments_lexer": "ipython3",
   "version": "3.9.13"
  },
  "orig_nbformat": 4
 },
 "nbformat": 4,
 "nbformat_minor": 2
}
